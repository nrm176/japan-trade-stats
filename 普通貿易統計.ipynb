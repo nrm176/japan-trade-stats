{
  "nbformat": 4,
  "nbformat_minor": 0,
  "metadata": {
    "colab": {
      "name": "普通貿易統計.ipynb",
      "provenance": [],
      "collapsed_sections": [],
      "authorship_tag": "ABX9TyNEKBoJgAwMU5UixXs/xcqC",
      "include_colab_link": true
    },
    "kernelspec": {
      "name": "python3",
      "display_name": "Python 3"
    }
  },
  "cells": [
    {
      "cell_type": "markdown",
      "metadata": {
        "id": "view-in-github",
        "colab_type": "text"
      },
      "source": [
        "<a href=\"https://colab.research.google.com/github/nrm176/japan-trade-stats/blob/master/%E6%99%AE%E9%80%9A%E8%B2%BF%E6%98%93%E7%B5%B1%E8%A8%88.ipynb\" target=\"_parent\"><img src=\"https://colab.research.google.com/assets/colab-badge.svg\" alt=\"Open In Colab\"/></a>"
      ]
    },
    {
      "cell_type": "markdown",
      "metadata": {
        "id": "dSEuQc6cXX4H",
        "colab_type": "text"
      },
      "source": [
        "# Get started\n",
        "\n",
        "### Step1.\n",
        "Access to [e-stat](https://www.e-stat.go.jp/stat-search/files?page=1&layout=datalist&toukei=00350300&tstat=000001013143&cycle=1&year=20200&month=12040605&tclass1=000001013229&tclass2=000001013230&result_back=1&cycle_facet=cycle)\n",
        "\n",
        "### Step2.\n",
        "Using Chrome DevTool, run the following JavaScript snippet.  It will return the urls to download csv files which include custom data.\n",
        "\n",
        "```javascript\n",
        "Array.from(document.querySelector('div.stat-dataset_list')\n",
        "    .querySelectorAll('li.stat-dataset_list-detail-item > div div:nth-child(4) > a:nth-child(1)'))\n",
        "    .map((e) => {\n",
        "    return e.href\n",
        "})\n",
        "```\n",
        "\n",
        "### Step3.\n",
        "\n",
        "Copy and paste those urls you got from Step2 and assign them to the variable with name urls"
      ]
    },
    {
      "cell_type": "code",
      "metadata": {
        "id": "etJQB1dQwQIl",
        "colab_type": "code",
        "colab": {}
      },
      "source": [
        "import pandas as pd\n",
        "from google.colab import drive"
      ],
      "execution_count": null,
      "outputs": []
    },
    {
      "cell_type": "code",
      "metadata": {
        "id": "mtuWf52vCvL5",
        "colab_type": "code",
        "colab": {
          "base_uri": "https://localhost:8080/",
          "height": 122
        },
        "outputId": "a31906d5-7e05-409e-965c-b28728863e37"
      },
      "source": [
        "drive.mount('/content/drive')"
      ],
      "execution_count": null,
      "outputs": [
        {
          "output_type": "stream",
          "text": [
            "Go to this URL in a browser: https://accounts.google.com/o/oauth2/auth?client_id=947318989803-6bn6qk8qdgf4n4g3pfee6491hc0brc4i.apps.googleusercontent.com&redirect_uri=urn%3aietf%3awg%3aoauth%3a2.0%3aoob&response_type=code&scope=email%20https%3a%2f%2fwww.googleapis.com%2fauth%2fdocs.test%20https%3a%2f%2fwww.googleapis.com%2fauth%2fdrive%20https%3a%2f%2fwww.googleapis.com%2fauth%2fdrive.photos.readonly%20https%3a%2f%2fwww.googleapis.com%2fauth%2fpeopleapi.readonly\n",
            "\n",
            "Enter your authorization code:\n",
            "··········\n",
            "Mounted at /content/drive\n"
          ],
          "name": "stdout"
        }
      ]
    },
    {
      "cell_type": "code",
      "metadata": {
        "id": "QIXdSi9EwTVF",
        "colab_type": "code",
        "colab": {}
      },
      "source": [
        "urls = [\n",
        "  \"https://www.e-stat.go.jp/stat-search/file-download?statInfId=000031957311&fileKind=1\",\n",
        "  \"https://www.e-stat.go.jp/stat-search/file-download?statInfId=000031957312&fileKind=1\",\n",
        "  \"https://www.e-stat.go.jp/stat-search/file-download?statInfId=000031957313&fileKind=1\",\n",
        "  \"https://www.e-stat.go.jp/stat-search/file-download?statInfId=000031957314&fileKind=1\",\n",
        "  \"https://www.e-stat.go.jp/stat-search/file-download?statInfId=000031957315&fileKind=1\",\n",
        "  \"https://www.e-stat.go.jp/stat-search/file-download?statInfId=000031957316&fileKind=1\",\n",
        "  \"https://www.e-stat.go.jp/stat-search/file-download?statInfId=000031957317&fileKind=1\",\n",
        "  \"https://www.e-stat.go.jp/stat-search/file-download?statInfId=000031957318&fileKind=1\",\n",
        "  \"https://www.e-stat.go.jp/stat-search/file-download?statInfId=000031957319&fileKind=1\",\n",
        "  \"https://www.e-stat.go.jp/stat-search/file-download?statInfId=000031957320&fileKind=1\",\n",
        "  \"https://www.e-stat.go.jp/stat-search/file-download?statInfId=000031957321&fileKind=1\",\n",
        "  \"https://www.e-stat.go.jp/stat-search/file-download?statInfId=000031957322&fileKind=1\",\n",
        "  \"https://www.e-stat.go.jp/stat-search/file-download?statInfId=000031957323&fileKind=1\",\n",
        "  \"https://www.e-stat.go.jp/stat-search/file-download?statInfId=000031957324&fileKind=1\",\n",
        "  \"https://www.e-stat.go.jp/stat-search/file-download?statInfId=000031957325&fileKind=1\",\n",
        "  \"https://www.e-stat.go.jp/stat-search/file-download?statInfId=000031957326&fileKind=1\",\n",
        "  \"https://www.e-stat.go.jp/stat-search/file-download?statInfId=000031957327&fileKind=1\"\n",
        "]"
      ],
      "execution_count": null,
      "outputs": []
    },
    {
      "cell_type": "code",
      "metadata": {
        "id": "iAE-3lSmwblz",
        "colab_type": "code",
        "colab": {}
      },
      "source": [
        "dfs = []\n",
        "for url in urls:\n",
        "  dfs.append(pd.read_csv(url))"
      ],
      "execution_count": null,
      "outputs": []
    },
    {
      "cell_type": "code",
      "metadata": {
        "id": "OWHmMNoqwhXE",
        "colab_type": "code",
        "colab": {}
      },
      "source": [
        "columns = list(dfs[0].columns)"
      ],
      "execution_count": null,
      "outputs": []
    },
    {
      "cell_type": "code",
      "metadata": {
        "id": "KBlbIdV-xRJj",
        "colab_type": "code",
        "colab": {}
      },
      "source": [
        "quantity_columns = list(filter(lambda x: 'Quantity' in x, columns))\n",
        "value_columns = list(filter(lambda x: 'Value' in x, columns))"
      ],
      "execution_count": null,
      "outputs": []
    },
    {
      "cell_type": "code",
      "metadata": {
        "id": "AWg9rYUuy0zi",
        "colab_type": "code",
        "colab": {}
      },
      "source": [
        "common_columns = ['Year', 'HS', 'Country', 'Custom']"
      ],
      "execution_count": null,
      "outputs": []
    },
    {
      "cell_type": "code",
      "metadata": {
        "id": "YPEjaRJnzQNb",
        "colab_type": "code",
        "colab": {}
      },
      "source": [
        "value_dfs = []\n",
        "for df in dfs:\n",
        "  value_dfs.append(df[ common_columns + value_columns ])"
      ],
      "execution_count": null,
      "outputs": []
    },
    {
      "cell_type": "code",
      "metadata": {
        "id": "uF9LdY8yzd3Y",
        "colab_type": "code",
        "colab": {}
      },
      "source": [
        "value_df_combined = pd.concat(value_dfs)"
      ],
      "execution_count": null,
      "outputs": []
    },
    {
      "cell_type": "code",
      "metadata": {
        "id": "r1eSLjRoz8bf",
        "colab_type": "code",
        "colab": {}
      },
      "source": [
        "value_df_combined['HS'] = list(map(lambda x: x.replace(\"'\", \"\"), list(value_df_combined['HS'])))"
      ],
      "execution_count": null,
      "outputs": []
    },
    {
      "cell_type": "code",
      "metadata": {
        "id": "-zweQMYWU3k-",
        "colab_type": "code",
        "colab": {}
      },
      "source": [
        "value_df_combined['Custom'] = value_df_combined['Custom'].astype(str)"
      ],
      "execution_count": null,
      "outputs": []
    },
    {
      "cell_type": "code",
      "metadata": {
        "id": "2wMl1IixJ2Ew",
        "colab_type": "code",
        "colab": {}
      },
      "source": [
        "county_code_df = pd.read_csv('/content/drive/My Drive/Colab Notebooks/trade-stat/datasets_262928_1193059_country_eng.csv', index_col=0)"
      ],
      "execution_count": null,
      "outputs": []
    },
    {
      "cell_type": "code",
      "metadata": {
        "id": "qLJvX28lKwu0",
        "colab_type": "code",
        "colab": {}
      },
      "source": [
        "hs9_df = pd.read_csv('/content/drive/My Drive/Colab Notebooks/trade-stat/datasets_262928_1193059_hs9_jpn.csv', index_col=0, converters={'hs9': lambda x: str(x)})\n",
        "hs9_df = hs9_df.rename(columns={\"hs9\": \"HS\", \"hs9_name\": \"HS_name\"})"
      ],
      "execution_count": null,
      "outputs": []
    },
    {
      "cell_type": "code",
      "metadata": {
        "id": "-4eUWhMLUJ1q",
        "colab_type": "code",
        "colab": {}
      },
      "source": [
        "custom_df = pd.read_csv('/content/drive/My Drive/Colab Notebooks/trade-stat/custom-names.csv', converters={'custom_code': lambda x: str(x)})\n",
        "custom_df = custom_df.rename(columns={\"custom_code\": \"Custom\", \"custom_name\": \"CustomName\"})"
      ],
      "execution_count": null,
      "outputs": []
    },
    {
      "cell_type": "code",
      "metadata": {
        "id": "XJ-lwQ2kMu--",
        "colab_type": "code",
        "colab": {}
      },
      "source": [
        "df_with_hs9 = pd.merge(value_df_combined, hs9_df, how='inner', on='HS' )"
      ],
      "execution_count": null,
      "outputs": []
    },
    {
      "cell_type": "code",
      "metadata": {
        "id": "N7E0FhFpNmZZ",
        "colab_type": "code",
        "colab": {}
      },
      "source": [
        "df_with_hs9_custom = pd.merge(df_with_hs9, custom_df, how='inner', on='Custom')\n",
        "df_with_hs9_custom_country = pd.merge(df_with_hs9_custom, county_code_df, how='inner', on='Country' )"
      ],
      "execution_count": null,
      "outputs": []
    },
    {
      "cell_type": "code",
      "metadata": {
        "id": "zuXq5h4RUqPe",
        "colab_type": "code",
        "colab": {}
      },
      "source": [
        "april_value_not_zero = df_with_hs9_custom_country['Value-Apr'] != 0\n",
        "df_with_hs9_custom_country_apr_not_zero = df_with_hs9_custom_country[april_value_not_zero]"
      ],
      "execution_count": null,
      "outputs": []
    },
    {
      "cell_type": "code",
      "metadata": {
        "id": "-co_I7qKXB5T",
        "colab_type": "code",
        "colab": {}
      },
      "source": [
        "ten_percent_increase_from_apr = (df_with_hs9_custom_country_apr_not_zero['Value-May']-df_with_hs9_custom_country_apr_not_zero['Value-Apr'])/df_with_hs9_custom_country_apr_not_zero['Value-Apr'] * 100 > 10"
      ],
      "execution_count": null,
      "outputs": []
    },
    {
      "cell_type": "code",
      "metadata": {
        "id": "FpaoHulfVdtE",
        "colab_type": "code",
        "colab": {}
      },
      "source": [
        "df2 = df_with_hs9_custom_country_apr_not_zero[ten_percent_increase_from_apr][['Value-Feb','Value-Mar','Value-Apr', 'Value-May', 'HS_name', 'CustomName', 'Country_name']]"
      ],
      "execution_count": null,
      "outputs": []
    },
    {
      "cell_type": "code",
      "metadata": {
        "id": "pje-ujQWXhHB",
        "colab_type": "code",
        "colab": {
          "base_uri": "https://localhost:8080/",
          "height": 514
        },
        "outputId": "d8c92c21-a336-4ecc-9dbd-e8a53916e9c8"
      },
      "source": [
        "df2[ (df2['Value-May'] > 1000000) & (df2['HS_name'].str.contains('半導体')) ].sort_values(by='Value-May', ascending=False)"
      ],
      "execution_count": null,
      "outputs": [
        {
          "output_type": "execute_result",
          "data": {
            "text/html": [
              "<div>\n",
              "<style scoped>\n",
              "    .dataframe tbody tr th:only-of-type {\n",
              "        vertical-align: middle;\n",
              "    }\n",
              "\n",
              "    .dataframe tbody tr th {\n",
              "        vertical-align: top;\n",
              "    }\n",
              "\n",
              "    .dataframe thead th {\n",
              "        text-align: right;\n",
              "    }\n",
              "</style>\n",
              "<table border=\"1\" class=\"dataframe\">\n",
              "  <thead>\n",
              "    <tr style=\"text-align: right;\">\n",
              "      <th></th>\n",
              "      <th>Value-Feb</th>\n",
              "      <th>Value-Mar</th>\n",
              "      <th>Value-Apr</th>\n",
              "      <th>Value-May</th>\n",
              "      <th>HS_name</th>\n",
              "      <th>CustomName</th>\n",
              "      <th>Country_name</th>\n",
              "    </tr>\n",
              "  </thead>\n",
              "  <tbody>\n",
              "    <tr>\n",
              "      <th>17589</th>\n",
              "      <td>23679478</td>\n",
              "      <td>17848987</td>\n",
              "      <td>18726452</td>\n",
              "      <td>27752424</td>\n",
              "      <td>半導体デバイス又は集積回路製造用の機器</td>\n",
              "      <td>下関税関支署</td>\n",
              "      <td>Korea</td>\n",
              "    </tr>\n",
              "    <tr>\n",
              "      <th>49166</th>\n",
              "      <td>1383150</td>\n",
              "      <td>787985</td>\n",
              "      <td>597090</td>\n",
              "      <td>6431639</td>\n",
              "      <td>半導体デバイス又は集積回路製造用の機器</td>\n",
              "      <td>東京税関（本関）</td>\n",
              "      <td>Taiwan</td>\n",
              "    </tr>\n",
              "    <tr>\n",
              "      <th>36471</th>\n",
              "      <td>6644245</td>\n",
              "      <td>4220696</td>\n",
              "      <td>1268263</td>\n",
              "      <td>4657310</td>\n",
              "      <td>半導体デバイス又は集積回路製造用の機器</td>\n",
              "      <td>関西空港税関支署</td>\n",
              "      <td>China</td>\n",
              "    </tr>\n",
              "    <tr>\n",
              "      <th>17714</th>\n",
              "      <td>435769</td>\n",
              "      <td>1506198</td>\n",
              "      <td>1266586</td>\n",
              "      <td>2707818</td>\n",
              "      <td>半導体ウエハー又は半導体デバイスの検査用の機器及びフォトマスク又はレチクル（半導体デバイスの...</td>\n",
              "      <td>下関税関支署</td>\n",
              "      <td>Korea</td>\n",
              "    </tr>\n",
              "    <tr>\n",
              "      <th>55549</th>\n",
              "      <td>1732178</td>\n",
              "      <td>1518399</td>\n",
              "      <td>1764345</td>\n",
              "      <td>2210714</td>\n",
              "      <td>半導体デバイス又は集積回路製造用の機器</td>\n",
              "      <td>神戸税関（本関）</td>\n",
              "      <td>Taiwan</td>\n",
              "    </tr>\n",
              "    <tr>\n",
              "      <th>46530</th>\n",
              "      <td>2581801</td>\n",
              "      <td>450908</td>\n",
              "      <td>1153230</td>\n",
              "      <td>2142500</td>\n",
              "      <td>半導体デバイス又は集積回路製造用の機器</td>\n",
              "      <td>下関税関支署</td>\n",
              "      <td>China</td>\n",
              "    </tr>\n",
              "    <tr>\n",
              "      <th>200022</th>\n",
              "      <td>0</td>\n",
              "      <td>0</td>\n",
              "      <td>1337059</td>\n",
              "      <td>1631314</td>\n",
              "      <td>半導体デバイス又は集積回路製造用の機器</td>\n",
              "      <td>東京税関（本関）</td>\n",
              "      <td>Ireland</td>\n",
              "    </tr>\n",
              "    <tr>\n",
              "      <th>36470</th>\n",
              "      <td>19170</td>\n",
              "      <td>656200</td>\n",
              "      <td>249380</td>\n",
              "      <td>1474700</td>\n",
              "      <td>半導体ボール又は半導体ウエハー製造用の機器</td>\n",
              "      <td>関西空港税関支署</td>\n",
              "      <td>China</td>\n",
              "    </tr>\n",
              "    <tr>\n",
              "      <th>115999</th>\n",
              "      <td>807481</td>\n",
              "      <td>957191</td>\n",
              "      <td>640412</td>\n",
              "      <td>1370697</td>\n",
              "      <td>その他のもの ディスク、テープ、不揮発性半導体記憶装置、スマートカードその他の媒体（記録して...</td>\n",
              "      <td>東京税関成田航空貨物出張所</td>\n",
              "      <td>Singapore</td>\n",
              "    </tr>\n",
              "    <tr>\n",
              "      <th>183713</th>\n",
              "      <td>2698720</td>\n",
              "      <td>162659</td>\n",
              "      <td>3930</td>\n",
              "      <td>1343584</td>\n",
              "      <td>半導体デバイス又は集積回路製造用の機器</td>\n",
              "      <td>東京税関成田航空貨物出張所</td>\n",
              "      <td>Israel</td>\n",
              "    </tr>\n",
              "    <tr>\n",
              "      <th>17588</th>\n",
              "      <td>609000</td>\n",
              "      <td>1446500</td>\n",
              "      <td>841000</td>\n",
              "      <td>1301000</td>\n",
              "      <td>半導体ボール又は半導体ウエハー製造用の機器</td>\n",
              "      <td>下関税関支署</td>\n",
              "      <td>Korea</td>\n",
              "    </tr>\n",
              "    <tr>\n",
              "      <th>68913</th>\n",
              "      <td>841955</td>\n",
              "      <td>878898</td>\n",
              "      <td>222116</td>\n",
              "      <td>1265960</td>\n",
              "      <td>その他のもの ディスク、テープ、不揮発性半導体記憶装置、スマートカードその他の媒体（記録して...</td>\n",
              "      <td>東京税関成田航空貨物出張所</td>\n",
              "      <td>Hong_Kong</td>\n",
              "    </tr>\n",
              "    <tr>\n",
              "      <th>20309</th>\n",
              "      <td>98670</td>\n",
              "      <td>646536</td>\n",
              "      <td>425941</td>\n",
              "      <td>1239279</td>\n",
              "      <td>半導体デバイス又は集積回路製造用の機器</td>\n",
              "      <td>東京税関（本関）</td>\n",
              "      <td>China</td>\n",
              "    </tr>\n",
              "    <tr>\n",
              "      <th>56467</th>\n",
              "      <td>893114</td>\n",
              "      <td>916157</td>\n",
              "      <td>803256</td>\n",
              "      <td>1139270</td>\n",
              "      <td>半導体デバイス又は集積回路製造用の機器</td>\n",
              "      <td>呉税関支署</td>\n",
              "      <td>Taiwan</td>\n",
              "    </tr>\n",
              "    <tr>\n",
              "      <th>137200</th>\n",
              "      <td>1300518</td>\n",
              "      <td>1196531</td>\n",
              "      <td>29197</td>\n",
              "      <td>1082138</td>\n",
              "      <td>その他のもの ディスク、テープ、不揮発性半導体記憶装置、スマートカードその他の媒体（記録して...</td>\n",
              "      <td>酒田税関支署</td>\n",
              "      <td>Philippines</td>\n",
              "    </tr>\n",
              "  </tbody>\n",
              "</table>\n",
              "</div>"
            ],
            "text/plain": [
              "        Value-Feb  Value-Mar  ...     CustomName  Country_name\n",
              "17589    23679478   17848987  ...         下関税関支署         Korea\n",
              "49166     1383150     787985  ...       東京税関（本関）        Taiwan\n",
              "36471     6644245    4220696  ...       関西空港税関支署         China\n",
              "17714      435769    1506198  ...         下関税関支署         Korea\n",
              "55549     1732178    1518399  ...       神戸税関（本関）        Taiwan\n",
              "46530     2581801     450908  ...         下関税関支署         China\n",
              "200022          0          0  ...       東京税関（本関）       Ireland\n",
              "36470       19170     656200  ...       関西空港税関支署         China\n",
              "115999     807481     957191  ...  東京税関成田航空貨物出張所     Singapore\n",
              "183713    2698720     162659  ...  東京税関成田航空貨物出張所        Israel\n",
              "17588      609000    1446500  ...         下関税関支署         Korea\n",
              "68913      841955     878898  ...  東京税関成田航空貨物出張所     Hong_Kong\n",
              "20309       98670     646536  ...       東京税関（本関）         China\n",
              "56467      893114     916157  ...          呉税関支署        Taiwan\n",
              "137200    1300518    1196531  ...         酒田税関支署   Philippines\n",
              "\n",
              "[15 rows x 7 columns]"
            ]
          },
          "metadata": {
            "tags": []
          },
          "execution_count": 77
        }
      ]
    },
    {
      "cell_type": "code",
      "metadata": {
        "id": "juyyMdIHcC0_",
        "colab_type": "code",
        "colab": {
          "base_uri": "https://localhost:8080/",
          "height": 1000
        },
        "outputId": "324919ad-f11f-4b30-89a3-63847d637154"
      },
      "source": [
        "df_with_hs9_custom_country_apr_not_zero[ (df_with_hs9_custom_country_apr_not_zero['HS_name'].str.contains('半導体')) ][['Value-Mar', 'Value-Apr','Value-May', 'CustomName']].groupby('CustomName').sum().sort_values(by='Value-May', ascending=False)"
      ],
      "execution_count": null,
      "outputs": [
        {
          "output_type": "execute_result",
          "data": {
            "text/html": [
              "<div>\n",
              "<style scoped>\n",
              "    .dataframe tbody tr th:only-of-type {\n",
              "        vertical-align: middle;\n",
              "    }\n",
              "\n",
              "    .dataframe tbody tr th {\n",
              "        vertical-align: top;\n",
              "    }\n",
              "\n",
              "    .dataframe thead th {\n",
              "        text-align: right;\n",
              "    }\n",
              "</style>\n",
              "<table border=\"1\" class=\"dataframe\">\n",
              "  <thead>\n",
              "    <tr style=\"text-align: right;\">\n",
              "      <th></th>\n",
              "      <th>Value-Mar</th>\n",
              "      <th>Value-Apr</th>\n",
              "      <th>Value-May</th>\n",
              "    </tr>\n",
              "    <tr>\n",
              "      <th>CustomName</th>\n",
              "      <th></th>\n",
              "      <th></th>\n",
              "      <th></th>\n",
              "    </tr>\n",
              "  </thead>\n",
              "  <tbody>\n",
              "    <tr>\n",
              "      <th>東京税関成田航空貨物出張所</th>\n",
              "      <td>68416308</td>\n",
              "      <td>47204635</td>\n",
              "      <td>42403387</td>\n",
              "    </tr>\n",
              "    <tr>\n",
              "      <th>下関税関支署</th>\n",
              "      <td>21991012</td>\n",
              "      <td>22357142</td>\n",
              "      <td>34280971</td>\n",
              "    </tr>\n",
              "    <tr>\n",
              "      <th>東京税関（本関）</th>\n",
              "      <td>9549734</td>\n",
              "      <td>11948865</td>\n",
              "      <td>16613916</td>\n",
              "    </tr>\n",
              "    <tr>\n",
              "      <th>関西空港税関支署</th>\n",
              "      <td>14979999</td>\n",
              "      <td>8212606</td>\n",
              "      <td>10885416</td>\n",
              "    </tr>\n",
              "    <tr>\n",
              "      <th>神戸税関（本関）</th>\n",
              "      <td>6322703</td>\n",
              "      <td>6473002</td>\n",
              "      <td>5060370</td>\n",
              "    </tr>\n",
              "    <tr>\n",
              "      <th>大阪税関（本関）</th>\n",
              "      <td>5785973</td>\n",
              "      <td>4599164</td>\n",
              "      <td>3053859</td>\n",
              "    </tr>\n",
              "    <tr>\n",
              "      <th>横浜税関（本関）</th>\n",
              "      <td>4048380</td>\n",
              "      <td>4382392</td>\n",
              "      <td>2962044</td>\n",
              "    </tr>\n",
              "    <tr>\n",
              "      <th>名古屋税関（本関）</th>\n",
              "      <td>4331540</td>\n",
              "      <td>5472545</td>\n",
              "      <td>2286247</td>\n",
              "    </tr>\n",
              "    <tr>\n",
              "      <th>呉税関支署</th>\n",
              "      <td>1929917</td>\n",
              "      <td>2641235</td>\n",
              "      <td>2145612</td>\n",
              "    </tr>\n",
              "    <tr>\n",
              "      <th>博多税関支署</th>\n",
              "      <td>5725094</td>\n",
              "      <td>9160035</td>\n",
              "      <td>1784035</td>\n",
              "    </tr>\n",
              "    <tr>\n",
              "      <th>千葉税関支署</th>\n",
              "      <td>2377376</td>\n",
              "      <td>2426977</td>\n",
              "      <td>1312160</td>\n",
              "    </tr>\n",
              "    <tr>\n",
              "      <th>酒田税関支署</th>\n",
              "      <td>1196531</td>\n",
              "      <td>29197</td>\n",
              "      <td>1082138</td>\n",
              "    </tr>\n",
              "    <tr>\n",
              "      <th>門司税関（本関）</th>\n",
              "      <td>0</td>\n",
              "      <td>1091529</td>\n",
              "      <td>964011</td>\n",
              "    </tr>\n",
              "    <tr>\n",
              "      <th>京都税関支署</th>\n",
              "      <td>359440</td>\n",
              "      <td>219751</td>\n",
              "      <td>335551</td>\n",
              "    </tr>\n",
              "    <tr>\n",
              "      <th>広島税関支署</th>\n",
              "      <td>576452</td>\n",
              "      <td>332925</td>\n",
              "      <td>267968</td>\n",
              "    </tr>\n",
              "    <tr>\n",
              "      <th>川崎税関支署</th>\n",
              "      <td>0</td>\n",
              "      <td>78404</td>\n",
              "      <td>136760</td>\n",
              "    </tr>\n",
              "    <tr>\n",
              "      <th>仙台塩釜税関支署</th>\n",
              "      <td>279173</td>\n",
              "      <td>125961</td>\n",
              "      <td>122784</td>\n",
              "    </tr>\n",
              "    <tr>\n",
              "      <th>中部空港税関支署</th>\n",
              "      <td>394920</td>\n",
              "      <td>177242</td>\n",
              "      <td>58985</td>\n",
              "    </tr>\n",
              "    <tr>\n",
              "      <th>堺税関支署岸和田出張所</th>\n",
              "      <td>55152</td>\n",
              "      <td>181212</td>\n",
              "      <td>58049</td>\n",
              "    </tr>\n",
              "    <tr>\n",
              "      <th>清水税関支署</th>\n",
              "      <td>85223</td>\n",
              "      <td>108168</td>\n",
              "      <td>49609</td>\n",
              "    </tr>\n",
              "    <tr>\n",
              "      <th>福岡空港税関支署</th>\n",
              "      <td>40512</td>\n",
              "      <td>37359</td>\n",
              "      <td>9721</td>\n",
              "    </tr>\n",
              "    <tr>\n",
              "      <th>尼崎税関支署</th>\n",
              "      <td>7549</td>\n",
              "      <td>6944</td>\n",
              "      <td>4283</td>\n",
              "    </tr>\n",
              "    <tr>\n",
              "      <th>鹿島税関支署つくば出張所</th>\n",
              "      <td>1643</td>\n",
              "      <td>5592</td>\n",
              "      <td>3848</td>\n",
              "    </tr>\n",
              "    <tr>\n",
              "      <th>秋田船川税関支署</th>\n",
              "      <td>1908</td>\n",
              "      <td>1998</td>\n",
              "      <td>1473</td>\n",
              "    </tr>\n",
              "    <tr>\n",
              "      <th>姫路税関支署東播磨出張所</th>\n",
              "      <td>324</td>\n",
              "      <td>2412</td>\n",
              "      <td>962</td>\n",
              "    </tr>\n",
              "    <tr>\n",
              "      <th>京都税関支署滋賀出張所</th>\n",
              "      <td>326</td>\n",
              "      <td>500</td>\n",
              "      <td>750</td>\n",
              "    </tr>\n",
              "    <tr>\n",
              "      <th>伏木税関支署</th>\n",
              "      <td>2934</td>\n",
              "      <td>14388</td>\n",
              "      <td>694</td>\n",
              "    </tr>\n",
              "    <tr>\n",
              "      <th>伏木税関支署富山空港出張所</th>\n",
              "      <td>0</td>\n",
              "      <td>804</td>\n",
              "      <td>220</td>\n",
              "    </tr>\n",
              "    <tr>\n",
              "      <th>東京税関羽田税関支署</th>\n",
              "      <td>5611</td>\n",
              "      <td>2377</td>\n",
              "      <td>0</td>\n",
              "    </tr>\n",
              "    <tr>\n",
              "      <th>松山税関支署</th>\n",
              "      <td>0</td>\n",
              "      <td>906</td>\n",
              "      <td>0</td>\n",
              "    </tr>\n",
              "    <tr>\n",
              "      <th>横浜税関宇都宮出張所</th>\n",
              "      <td>700</td>\n",
              "      <td>1804</td>\n",
              "      <td>0</td>\n",
              "    </tr>\n",
              "    <tr>\n",
              "      <th>新居浜税関支署</th>\n",
              "      <td>129000</td>\n",
              "      <td>129000</td>\n",
              "      <td>0</td>\n",
              "    </tr>\n",
              "    <tr>\n",
              "      <th>清水税関支署御前崎出張所</th>\n",
              "      <td>0</td>\n",
              "      <td>356</td>\n",
              "      <td>0</td>\n",
              "    </tr>\n",
              "    <tr>\n",
              "      <th>坂出税関支署高松出張所</th>\n",
              "      <td>0</td>\n",
              "      <td>600</td>\n",
              "      <td>0</td>\n",
              "    </tr>\n",
              "    <tr>\n",
              "      <th>四日市税関支署</th>\n",
              "      <td>382</td>\n",
              "      <td>12939</td>\n",
              "      <td>0</td>\n",
              "    </tr>\n",
              "    <tr>\n",
              "      <th>苫小牧税関支署</th>\n",
              "      <td>0</td>\n",
              "      <td>1046</td>\n",
              "      <td>0</td>\n",
              "    </tr>\n",
              "    <tr>\n",
              "      <th>金沢税関支署小松空港出張所</th>\n",
              "      <td>0</td>\n",
              "      <td>452</td>\n",
              "      <td>0</td>\n",
              "    </tr>\n",
              "    <tr>\n",
              "      <th>青森税関支署</th>\n",
              "      <td>2216</td>\n",
              "      <td>1333</td>\n",
              "      <td>0</td>\n",
              "    </tr>\n",
              "    <tr>\n",
              "      <th>敦賀税関支署福井出張所</th>\n",
              "      <td>0</td>\n",
              "      <td>293</td>\n",
              "      <td>0</td>\n",
              "    </tr>\n",
              "  </tbody>\n",
              "</table>\n",
              "</div>"
            ],
            "text/plain": [
              "               Value-Mar  Value-Apr  Value-May\n",
              "CustomName                                    \n",
              "東京税関成田航空貨物出張所   68416308   47204635   42403387\n",
              "下関税関支署          21991012   22357142   34280971\n",
              "東京税関（本関）         9549734   11948865   16613916\n",
              "関西空港税関支署        14979999    8212606   10885416\n",
              "神戸税関（本関）         6322703    6473002    5060370\n",
              "大阪税関（本関）         5785973    4599164    3053859\n",
              "横浜税関（本関）         4048380    4382392    2962044\n",
              "名古屋税関（本関）        4331540    5472545    2286247\n",
              "呉税関支署            1929917    2641235    2145612\n",
              "博多税関支署           5725094    9160035    1784035\n",
              "千葉税関支署           2377376    2426977    1312160\n",
              "酒田税関支署           1196531      29197    1082138\n",
              "門司税関（本関）               0    1091529     964011\n",
              "京都税関支署            359440     219751     335551\n",
              "広島税関支署            576452     332925     267968\n",
              "川崎税関支署                 0      78404     136760\n",
              "仙台塩釜税関支署          279173     125961     122784\n",
              "中部空港税関支署          394920     177242      58985\n",
              "堺税関支署岸和田出張所        55152     181212      58049\n",
              "清水税関支署             85223     108168      49609\n",
              "福岡空港税関支署           40512      37359       9721\n",
              "尼崎税関支署              7549       6944       4283\n",
              "鹿島税関支署つくば出張所        1643       5592       3848\n",
              "秋田船川税関支署            1908       1998       1473\n",
              "姫路税関支署東播磨出張所         324       2412        962\n",
              "京都税関支署滋賀出張所          326        500        750\n",
              "伏木税関支署              2934      14388        694\n",
              "伏木税関支署富山空港出張所          0        804        220\n",
              "東京税関羽田税関支署          5611       2377          0\n",
              "松山税関支署                 0        906          0\n",
              "横浜税関宇都宮出張所           700       1804          0\n",
              "新居浜税関支署           129000     129000          0\n",
              "清水税関支署御前崎出張所           0        356          0\n",
              "坂出税関支署高松出張所            0        600          0\n",
              "四日市税関支署              382      12939          0\n",
              "苫小牧税関支署                0       1046          0\n",
              "金沢税関支署小松空港出張所          0        452          0\n",
              "青森税関支署              2216       1333          0\n",
              "敦賀税関支署福井出張所            0        293          0"
            ]
          },
          "metadata": {
            "tags": []
          },
          "execution_count": 84
        }
      ]
    },
    {
      "cell_type": "code",
      "metadata": {
        "id": "TdffCV87BZ7D",
        "colab_type": "code",
        "colab": {}
      },
      "source": [
        ""
      ],
      "execution_count": null,
      "outputs": []
    }
  ]
}